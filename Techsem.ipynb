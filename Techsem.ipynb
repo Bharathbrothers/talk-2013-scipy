{
 "cells": [
  {
   "cell_type": "markdown",
   "metadata": {
    "slideshow": {
     "slide_type": "slide"
    }
   },
   "source": [
    "<h1 class=\"title\">Presentation slides with the help of Jupyter Notebooks</h1>"
   ]
  },
  {
   "attachments": {},
   "cell_type": "markdown",
   "metadata": {
    "slideshow": {
     "slide_type": "slide"
    }
   },
   "source": [
    "# ABOUT THE TOOL"
   ]
  },
  {
   "attachments": {},
   "cell_type": "markdown",
   "metadata": {},
   "source": [
    "* Project Jupyter is a nonprofit organization created to \"develop open-source software, open-standards, and services for interactive computing across dozens of programming languages.\" \n",
    "* Jupyter =  Julia + Python + R\n",
    "* Project Jupyter has developed Jupyter Notebook, Jupyter Hub, and Jupyter Lab, the next-generation version of Jupyter Notebook.\n"
   ]
  },
  {
   "cell_type": "markdown",
   "metadata": {
    "slideshow": {
     "slide_type": "slide"
    }
   },
   "source": [
    "<h1 class=\"bigtitle\">More about the Tool</h1>"
   ]
  },
  {
   "attachments": {},
   "cell_type": "markdown",
   "metadata": {
    "slideshow": {
     "slide_type": "slide"
    }
   },
   "source": [
    "# APPLICATIONS OF THE TOOL"
   ]
  },
  {
   "attachments": {},
   "cell_type": "markdown",
   "metadata": {},
   "source": [
    "* One of the most significant advances in the scientific computing arena is underway with the explosion of interest in Jupyter (formerly, IPython) Notebook technology.\n",
    "* The scientific publication Nature recently featured an article on the benefits of Jupyter Notebooks for scientific research.\n",
    "* There are now Jupyter Notebooks on numerous topics in many scientific disciplines.\n",
    " Here are a few examples of IPython Notebooks for science:\n",
    "    1. LIGO Gravitational Wave Data\n",
    "    2. Satellite Imagery Analysis\n",
    "    3. 12 Steps to Navier-Stokes\n",
    "    4. Computer Vision\n",
    "    5. Machine Learning"
   ]
  },
  {
   "cell_type": "markdown",
   "metadata": {},
   "source": [
    "# Architecture"
   ]
  },
  {
   "cell_type": "code",
   "execution_count": null,
   "metadata": {},
   "outputs": [],
   "source": [
    "<img src=\"files/images/image.png\" />"
   ]
  },
  {
   "cell_type": "markdown",
   "metadata": {
    "slideshow": {
     "slide_type": "slide"
    }
   },
   "source": [
    "<h1 class=\"bigtitle\">Thanks!</h1>"
   ]
  },
  {
   "cell_type": "code",
   "execution_count": 2,
   "metadata": {
    "slideshow": {
     "slide_type": "slide"
    }
   },
   "outputs": [
    {
     "data": {
      "text/html": [
       "\n",
       "\n",
       "<style>\n",
       "\n",
       ".rendered_html {\n",
       "    font-family: \"proxima-nova\", helvetica;\n",
       "    font-size: 150%;\n",
       "    line-height: 1.3;\n",
       "}\n",
       "\n",
       ".rendered_html h1 {\n",
       "    margin: 0.25em 0em 0.5em;\n",
       "    color: #015C9C;\n",
       "    text-align: center;\n",
       "    line-height: 1.2; \n",
       "    page-break-before: always;\n",
       "}\n",
       "\n",
       ".rendered_html h2 {\n",
       "    margin: 1.1em 0em 0.5em;\n",
       "    color: #26465D;\n",
       "    line-height: 1.2;\n",
       "}\n",
       "\n",
       ".rendered_html h3 {\n",
       "    margin: 1.1em 0em 0.5em;\n",
       "    color: #002845;\n",
       "    line-height: 1.2;\n",
       "}\n",
       "\n",
       ".rendered_html li {\n",
       "    line-height: 1.5; \n",
       "}\n",
       "\n",
       ".prompt {\n",
       "    font-size: 120%; \n",
       "}\n",
       "\n",
       ".CodeMirror-lines {\n",
       "    font-size: 120%; \n",
       "}\n",
       "\n",
       ".output_area {\n",
       "    font-size: 120%; \n",
       "}\n",
       "\n",
       "#notebook {\n",
       "    background-image: url('files/images/witewall_3.png');\n",
       "}\n",
       "\n",
       "h1.bigtitle {\n",
       "    margin: 4cm 1cm 4cm 1cm;\n",
       "    font-size: 300%;\n",
       "}\n",
       "\n",
       "h3.point {\n",
       "    font-size: 200%;\n",
       "    text-align: center;\n",
       "    margin: 2em 0em 2em 0em;\n",
       "    #26465D\n",
       "}\n",
       "\n",
       ".logo {\n",
       "    margin: 20px 0 20px 0;\n",
       "}\n",
       "\n",
       "a.anchor-link {\n",
       "    display: none;\n",
       "}\n",
       "\n",
       "h1.title { \n",
       "    font-size: 250%;\n",
       "}\n",
       "\n",
       "</style>\n"
      ],
      "text/plain": [
       "<IPython.core.display.HTML at 0x10802d410>"
      ]
     },
     "metadata": {},
     "output_type": "display_data"
    }
   ],
   "source": [
    "from IPython.display import display, HTML\n",
    "s = \"\"\"\n",
    "\n",
    "<style>\n",
    "\n",
    ".rendered_html {\n",
    "    font-family: \"proxima-nova\", helvetica;\n",
    "    font-size: 150%;\n",
    "    line-height: 1.3;\n",
    "}\n",
    "\n",
    ".rendered_html h1 {\n",
    "    margin: 0.25em 0em 0.5em;\n",
    "    color: #015C9C;\n",
    "    text-align: center;\n",
    "    line-height: 1.2; \n",
    "    page-break-before: always;\n",
    "}\n",
    "\n",
    ".rendered_html h2 {\n",
    "    margin: 1.1em 0em 0.5em;\n",
    "    color: #26465D;\n",
    "    line-height: 1.2;\n",
    "}\n",
    "\n",
    ".rendered_html h3 {\n",
    "    margin: 1.1em 0em 0.5em;\n",
    "    color: #002845;\n",
    "    line-height: 1.2;\n",
    "}\n",
    "\n",
    ".rendered_html li {\n",
    "    line-height: 1.5; \n",
    "}\n",
    "\n",
    ".prompt {\n",
    "    font-size: 120%; \n",
    "}\n",
    "\n",
    ".CodeMirror-lines {\n",
    "    font-size: 120%; \n",
    "}\n",
    "\n",
    ".output_area {\n",
    "    font-size: 120%; \n",
    "}\n",
    "\n",
    "#notebook {\n",
    "    background-image: url('files/images/witewall_3.png');\n",
    "}\n",
    "\n",
    "h1.bigtitle {\n",
    "    margin: 4cm 1cm 4cm 1cm;\n",
    "    font-size: 300%;\n",
    "}\n",
    "\n",
    "h3.point {\n",
    "    font-size: 200%;\n",
    "    text-align: center;\n",
    "    margin: 2em 0em 2em 0em;\n",
    "    #26465D\n",
    "}\n",
    "\n",
    ".logo {\n",
    "    margin: 20px 0 20px 0;\n",
    "}\n",
    "\n",
    "a.anchor-link {\n",
    "    display: none;\n",
    "}\n",
    "\n",
    "h1.title { \n",
    "    font-size: 250%;\n",
    "}\n",
    "\n",
    "</style>\n",
    "\"\"\"\n",
    "display(HTML(s))"
   ]
  },
  {
   "cell_type": "code",
   "execution_count": null,
   "metadata": {},
   "outputs": [],
   "source": []
  }
 ],
 "metadata": {
  "kernelspec": {
   "display_name": "Python 3",
   "language": "python",
   "name": "python3"
  },
  "language_info": {
   "codemirror_mode": {
    "name": "ipython",
    "version": 3
   },
   "file_extension": ".py",
   "mimetype": "text/x-python",
   "name": "python",
   "nbconvert_exporter": "python",
   "pygments_lexer": "ipython3",
   "version": "3.5.4"
  }
 },
 "nbformat": 4,
 "nbformat_minor": 1
}
